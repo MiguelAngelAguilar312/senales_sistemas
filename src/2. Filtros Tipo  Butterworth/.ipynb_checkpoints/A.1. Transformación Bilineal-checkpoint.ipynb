{
 "cells": [
  {
   "cell_type": "markdown",
   "metadata": {},
   "source": [
    "# A.1. Transformación Bilineal"
   ]
  },
  {
   "cell_type": "code",
   "execution_count": 58,
   "metadata": {
    "collapsed": true
   },
   "outputs": [],
   "source": [
    "import sympy as sym"
   ]
  },
  {
   "cell_type": "code",
   "execution_count": 88,
   "metadata": {},
   "outputs": [
    {
     "name": "stdout",
     "output_type": "stream",
     "text": [
      "1 - 1/z\n",
      "1 + 1/z\n"
     ]
    }
   ],
   "source": [
    "s, z, wc = sym.symbols('s z wc')\n",
    "\n",
    "s0 = (1-z**-1)\n",
    "s1 = (1+z**-1)\n",
    "\n",
    "print s0\n",
    "print s1"
   ]
  },
  {
   "cell_type": "code",
   "execution_count": 94,
   "metadata": {},
   "outputs": [
    {
     "name": "stdout",
     "output_type": "stream",
     "text": [
      "1 - 2/z + z**(-2)\n",
      "1 + 2/z + z**(-2)\n",
      "1 - 1/z**2\n"
     ]
    }
   ],
   "source": [
    "print (s0**2).expand()\n",
    "print (s1**2).expand()\n",
    "print (s0*s1).expand()"
   ]
  },
  {
   "cell_type": "code",
   "execution_count": 40,
   "metadata": {},
   "outputs": [
    {
     "name": "stdout",
     "output_type": "stream",
     "text": [
      "wc**3 + 3*wc**3/z + 3*wc**3/z**2 + wc**3/z**3 + 2*wc**2 + 2*wc**2/z - 2*wc**2/z**2 - 2*wc**2/z**3 + 2*wc - 2*wc/z - 2*wc/z**2 + 2*wc/z**3 + 1 - 3/z + 3/z**2 - 1/z**3\n"
     ]
    }
   ],
   "source": [
    "S = (s0**3)+ 2*wc*(s0**2*s1) + 2*wc**2*(s0*s1**2) + wc**3*s1**3\n",
    "\n",
    "print S.expand()"
   ]
  }
 ],
 "metadata": {
  "kernelspec": {
   "display_name": "Python 2",
   "language": "python",
   "name": "python2"
  },
  "language_info": {
   "codemirror_mode": {
    "name": "ipython",
    "version": 2
   },
   "file_extension": ".py",
   "mimetype": "text/x-python",
   "name": "python",
   "nbconvert_exporter": "python",
   "pygments_lexer": "ipython2",
   "version": "2.7.14"
  }
 },
 "nbformat": 4,
 "nbformat_minor": 2
}
