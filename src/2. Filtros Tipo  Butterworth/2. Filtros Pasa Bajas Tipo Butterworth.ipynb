{
 "cells": [
  {
   "cell_type": "markdown",
   "metadata": {},
   "source": [
    "# 2. Filtros Pasa Bajas Tipo Butterworth  (FPBB)"
   ]
  },
  {
   "cell_type": "markdown",
   "metadata": {},
   "source": [
    "**Definición**\n",
    "\n",
    "Sea $H(j\\omega)$ la función de transferencia de un FPBB es\n",
    "$$H(j\\omega) = \\dfrac{1}{\\sqrt{ 1+\\left(\\dfrac{\\omega}{\\omega_c} \\right)^{2n}} }$$\n",
    "\n",
    "donde $n$ es el orden del filtro\n",
    "\n",
    "La localización de los polos de dicha función se ubican en \n",
    "$$s=\\omega_cexp\\left( j\\dfrac{\\pi}{2n}(2k+n-1) \\right)$$"
   ]
  },
  {
   "cell_type": "code",
   "execution_count": 1,
   "metadata": {
    "collapsed": true
   },
   "outputs": [],
   "source": [
    "#NOTE importar bibliotecas\n",
    "import numpy             as np\n",
    "import matplotlib.pyplot as plt\n",
    "\n",
    "from scipy import signal"
   ]
  },
  {
   "cell_type": "code",
   "execution_count": 128,
   "metadata": {},
   "outputs": [
    {
     "name": "stdout",
     "output_type": "stream",
     "text": [
      "1.00/_0.6667pi\n",
      "1.00/_1.0000pi\n",
      "1.00/_-0.6667pi\n",
      "1.00/_-0.3333pi\n",
      "1.00/_-0.0000pi\n",
      "1.00/_0.3333pi\n"
     ]
    }
   ],
   "source": [
    "n  = 3.\n",
    "wc = 1\n",
    "k  = np.arange(1,2*n+1)\n",
    "d  = 1j*np.pi/(2*n)\n",
    "s  = wc*np.exp( d*(2*k + n - 1 ) )\n",
    "\n",
    "for r,i in zip( np.absolute(s), np.angle(s)/np.pi ):\n",
    "    print '%2.2f/_%2.4fpi'%(r,i)"
   ]
  },
  {
   "cell_type": "markdown",
   "metadata": {},
   "source": [
    "### Gráfica distribución de polos"
   ]
  },
  {
   "cell_type": "code",
   "execution_count": 129,
   "metadata": {},
   "outputs": [
    {
     "data": {
      "image/png": "[encoded data removed]",
      "text/plain": [
       "<matplotlib.figure.Figure at 0x7fba9e0b1f90>"
      ]
     },
     "metadata": {},
     "output_type": "display_data"
    }
   ],
   "source": [
    "re, im = np.real( s ), np.imag( s )\n",
    "\n",
    "plt.figure(figsize=(5,5))\n",
    "plt.plot(re,im,'o',markersize=16)\n",
    "plt.grid(True)\n",
    "plt.xlim(-wc-0.1,wc+0.1)\n",
    "plt.ylim(-wc-0.1,wc+0.1)\n",
    "plt.show()"
   ]
  },
  {
   "cell_type": "code",
   "execution_count": 130,
   "metadata": {
    "scrolled": true
   },
   "outputs": [
    {
     "data": {
      "image/png": "[encoded data removed]",
      "text/plain": [
       "<matplotlib.figure.Figure at 0x7fba9e0e36d0>"
      ]
     },
     "metadata": {},
     "output_type": "display_data"
    }
   ],
   "source": [
    "plt.figure(figsize=(5,5))\n",
    "plt.plot(re,im,'ob',markersize=16)\n",
    "plt.grid(True)\n",
    "plt.axvspan(-wc-0.1,0,color='g',alpha=.5)\n",
    "plt.xlim(-wc-0.1,wc+0.1)\n",
    "plt.ylim(-wc-0.1,wc+0.1)\n",
    "plt.show()"
   ]
  },
  {
   "cell_type": "markdown",
   "metadata": {},
   "source": [
    "### Cálculo de función de transferencia"
   ]
  },
  {
   "cell_type": "code",
   "execution_count": 153,
   "metadata": {},
   "outputs": [
    {
     "name": "stdout",
     "output_type": "stream",
     "text": [
      "1: s^2 + 1.0000(1.00)s + 1.0000\n"
     ]
    }
   ],
   "source": [
    "K = np.ceil( s.shape[0]/4. ).astype('int')\n",
    "\n",
    "if n%2!=0:\n",
    "    K -= 1 \n",
    "\n",
    "A = np.absolute( s[:K] )\n",
    "O = np.angle   ( s[:K] )\n",
    "E = -2*np.cos( O )\n",
    "\n",
    "p = [ [0, 0, 1] ]\n",
    "for i,(a,e) in enumerate( zip( A,E ) ):\n",
    "    print \"%d: s^2 + %2.4f(%2.2f)s + %2.4f\"%(i+1,e,a,a**2)\n",
    "    p.append( [1,e*a,a**2] )\n"
   ]
  },
  {
   "cell_type": "code",
   "execution_count": 154,
   "metadata": {
    "scrolled": true
   },
   "outputs": [
    {
     "name": "stdout",
     "output_type": "stream",
     "text": [
      "[[0, 0, 1], [1, 0.99999999999999944, 0.99999999999999978]]\n",
      "   2\n",
      "1 x + 1 x + 1\n"
     ]
    }
   ],
   "source": [
    "print p\n",
    "x = np.poly1d( p[0] )\n",
    "for i in p[1:]:\n",
    "    x *= np.poly1d( i )\n",
    "\n",
    "print x"
   ]
  },
  {
   "cell_type": "code",
   "execution_count": 156,
   "metadata": {},
   "outputs": [
    {
     "data": {
      "image/png": "[encoded data removed]",
      "text/plain": [
       "<matplotlib.figure.Figure at 0x7fba9e6f4510>"
      ]
     },
     "metadata": {},
     "output_type": "display_data"
    },
    {
     "data": {
      "image/png": "[encoded data removed]",
      "text/plain": [
       "<matplotlib.figure.Figure at 0x7fba9e35a090>"
      ]
     },
     "metadata": {},
     "output_type": "display_data"
    }
   ],
   "source": [
    "sy = signal.lti([1], x)\n",
    "\n",
    "w, mag, phase = signal.bode(sy)\n",
    "\n",
    "plt.figure()\n",
    "plt.semilogx(w, mag,linewidth=3)\n",
    "plt.grid(True)\n",
    "\n",
    "plt.figure()\n",
    "plt.semilogx(w, phase, linewidth=3, color='orange')\n",
    "plt.grid(True)\n",
    "plt.show()"
   ]
  }
 ],
 "metadata": {
  "kernelspec": {
   "display_name": "Python 2",
   "language": "python",
   "name": "python2"
  },
  "language_info": {
   "codemirror_mode": {
    "name": "ipython",
    "version": 2
   },
   "file_extension": ".py",
   "mimetype": "text/x-python",
   "name": "python",
   "nbconvert_exporter": "python",
   "pygments_lexer": "ipython2",
   "version": "2.7.12"
  }
 },
 "nbformat": 4,
 "nbformat_minor": 2
}
