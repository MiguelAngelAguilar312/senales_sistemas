{
 "cells": [
  {
   "cell_type": "markdown",
   "metadata": {},
   "source": [
    "## Números Complejos\n",
    "\n",
    "### Motivación\n",
    "\n",
    "Dada la ecuación $x^3+x=0$, encuentre las soluciones."
   ]
  },
  {
   "cell_type": "markdown",
   "metadata": {},
   "source": [
    "#### Gráficar\n",
    "\n",
    "Primero se importan las bibliotecas de funciones python necesarias para manejar datos tipo matriz y gráficar"
   ]
  },
  {
   "cell_type": "code",
   "execution_count": 1,
   "metadata": {
    "collapsed": true
   },
   "outputs": [],
   "source": [
    "import numpy             as np\n",
    "import matplotlib.pyplot as plt"
   ]
  },
  {
   "cell_type": "markdown",
   "metadata": {},
   "source": [
    "Luego se generan los valores de la variable independiente $x\\in[-5,5]$ con una resolución de $0.001$"
   ]
  },
  {
   "cell_type": "code",
   "execution_count": 3,
   "metadata": {
    "collapsed": true
   },
   "outputs": [],
   "source": [
    "x = np.linspace(-2,2,1000)"
   ]
  },
  {
   "cell_type": "markdown",
   "metadata": {},
   "source": [
    "Gráfica"
   ]
  },
  {
   "cell_type": "code",
   "execution_count": 4,
   "metadata": {
    "scrolled": true
   },
   "outputs": [
    {
     "data": {
      "image/png": "[encoded data removed]",
      "text/plain": [
       "<matplotlib.figure.Figure at 0x7f6792655550>"
      ]
     },
     "metadata": {},
     "output_type": "display_data"
    }
   ],
   "source": [
    "plt.plot(x,x**3+x)\n",
    "plt.grid('on')\n",
    "plt.show()\n"
   ]
  },
  {
   "cell_type": "markdown",
   "metadata": {},
   "source": [
    "Definición del polinomio y búsqueda de sus tres raíces, de acuerdo al teorema fundamental del álgebra"
   ]
  },
  {
   "cell_type": "code",
   "execution_count": 5,
   "metadata": {},
   "outputs": [
    {
     "name": "stdout",
     "output_type": "stream",
     "text": [
      "   3\n",
      "1 x + 1 x\n"
     ]
    }
   ],
   "source": [
    "p = np.poly1d([1, 0, 1, 0])\n",
    "print( np.poly1d(p) )"
   ]
  },
  {
   "cell_type": "code",
   "execution_count": 6,
   "metadata": {},
   "outputs": [
    {
     "name": "stdout",
     "output_type": "stream",
     "text": [
      "[-0.+1.j  0.-1.j  0.+0.j]\n"
     ]
    }
   ],
   "source": [
    "print p.r"
   ]
  },
  {
   "cell_type": "markdown",
   "metadata": {},
   "source": [
    "### Periodicidad"
   ]
  },
  {
   "cell_type": "code",
   "execution_count": 7,
   "metadata": {
    "scrolled": true
   },
   "outputs": [
    {
     "name": "stdout",
     "output_type": "stream",
     "text": [
      "[ 0.+1.j]\n"
     ]
    },
    {
     "data": {
      "image/png": "[encoded data removed]",
      "text/plain": [
       "<matplotlib.figure.Figure at 0x7f679050d590>"
      ]
     },
     "metadata": {},
     "output_type": "display_data"
    }
   ],
   "source": [
    "c = np.array( [1j] )\n",
    "print c\n",
    "plt.plot(      c.real,      c.imag, 'or', markersize=20)\n",
    "plt.plot( (c**2).real, (c**2).imag, 'og', markersize=20)\n",
    "plt.plot( (c**3).real, (c**3).imag, 'oy', markersize=20)\n",
    "plt.plot( (c**4).real, (c**4).imag, 'ok', markersize=20)\n",
    "\n",
    "#view\n",
    "plt.xlim( [-1.5, 1.5] )\n",
    "plt.ylim( [-1.5, 1.5] )\n",
    "plt.grid('on')\n",
    "plt.axes().set_aspect('equal')\n",
    "plt.show()"
   ]
  },
  {
   "cell_type": "code",
   "execution_count": 8,
   "metadata": {},
   "outputs": [
    {
     "name": "stdout",
     "output_type": "stream",
     "text": [
      "[ 0.+1.j]\n"
     ]
    },
    {
     "data": {
      "image/png": "[encoded data removed]",
      "text/plain": [
       "<matplotlib.figure.Figure at 0x7f679050d050>"
      ]
     },
     "metadata": {},
     "output_type": "display_data"
    }
   ],
   "source": [
    "c = np.array( [1j] )\n",
    "print c\n",
    "plt.plot(      c.real,      c.imag, 'or', markersize=20)\n",
    "plt.plot( (c**2).real, (c**2).imag, 'og', markersize=20)\n",
    "plt.plot( (c**3).real, (c**3).imag, 'oy', markersize=20)\n",
    "plt.plot( (c**4).real, (c**4).imag, 'ok', markersize=20)\n",
    "\n",
    "plt.plot( (c**5).real, (c**5).imag, 'ob', markersize=10)\n",
    "plt.plot( (c**6).real, (c**6).imag, 'ok', markersize=10)\n",
    "plt.plot( (c**7).real, (c**7).imag, 'og', markersize=10)\n",
    "plt.plot( (c**8).real, (c**8).imag, 'or', markersize=10)\n",
    "\n",
    "#view\n",
    "plt.xlim( [-1.5, 1.5] )\n",
    "plt.ylim( [-1.5, 1.5] )\n",
    "plt.grid('on')\n",
    "plt.axes().set_aspect('equal')\n",
    "plt.show()\n"
   ]
  },
  {
   "cell_type": "code",
   "execution_count": 9,
   "metadata": {},
   "outputs": [
    {
     "name": "stdout",
     "output_type": "stream",
     "text": [
      "[ 1.+1.j]\n",
      "[ 1.41421356] [ 0.78539816]\n"
     ]
    },
    {
     "data": {
      "image/png": "[encoded data removed]",
      "text/plain": [
       "<matplotlib.figure.Figure at 0x7f679052a690>"
      ]
     },
     "metadata": {},
     "output_type": "display_data"
    }
   ],
   "source": [
    "c = np.array( [1+1j] )\n",
    "plt.plot( c.real, c.imag, 'or', markersize=12)\n",
    "print c\n",
    "print np.absolute(c), np.angle(c)\n",
    "\n",
    "#view\n",
    "plt.xlim( [-1.5, 1.5] )\n",
    "plt.ylim( [-1.5, 1.5] )\n",
    "plt.grid('on')\n",
    "plt.axes().set_aspect('equal')\n",
    "plt.show()"
   ]
  },
  {
   "cell_type": "code",
   "execution_count": 10,
   "metadata": {},
   "outputs": [
    {
     "name": "stdout",
     "output_type": "stream",
     "text": [
      "[-1.+1.j]\n",
      "[ 1.41421356] [ 2.35619449]\n"
     ]
    },
    {
     "data": {
      "image/png": "[encoded data removed]",
      "text/plain": [
       "<matplotlib.figure.Figure at 0x7f67905b7510>"
      ]
     },
     "metadata": {},
     "output_type": "display_data"
    }
   ],
   "source": [
    "c = np.array( [-1+1j] )\n",
    "plt.plot( c.real, c.imag, 'or', markersize=12)\n",
    "print c\n",
    "print np.absolute(c), np.angle(c)\n",
    "\n",
    "#view\n",
    "plt.xlim( [-1.5, 1.5] )\n",
    "plt.ylim( [-1.5, 1.5] )\n",
    "plt.grid('on')\n",
    "plt.axes().set_aspect('equal')\n",
    "plt.show()"
   ]
  },
  {
   "cell_type": "code",
   "execution_count": 11,
   "metadata": {
    "scrolled": true
   },
   "outputs": [
    {
     "name": "stdout",
     "output_type": "stream",
     "text": [
      "a = [-0.5+2.j]\n",
      "b = [ 1.5+1.j]\n",
      "2.06 \\_1.82\n",
      "1.80 \\_0.59\n",
      "\n",
      "a*b = [-2.75+2.5j]\n",
      "3.72 \\_2.40\n",
      "\n",
      "3.71, 2.41\n"
     ]
    },
    {
     "data": {
      "image/png": "[encoded data removed]",
      "text/plain": [
       "<matplotlib.figure.Figure at 0x7f6790447850>"
      ]
     },
     "metadata": {},
     "output_type": "display_data"
    }
   ],
   "source": [
    "a = np.array( [-.5 + 2j] )\n",
    "b = np.array( [1.5 + 1j] )\n",
    "plt.plot( a.real, a.imag, 'or', markersize=12)\n",
    "plt.plot( b.real, b.imag, 'og', markersize=12)\n",
    "\n",
    "print 'a = %s'%a\n",
    "print 'b = %s'%b\n",
    "print '%2.2f \\\\_%2.2f'%( np.absolute(a), np.angle(a) )\n",
    "print '%2.2f \\\\_%2.2f'%( np.absolute(b), np.angle(b) )\n",
    "\n",
    "print '\\na*b = %s'%(a*b)\n",
    "print '%2.2f \\\\_%2.2f'%( np.absolute(a*b), np.angle(a*b) )\n",
    "\n",
    "plt.plot( (a*b).real, (a*b).imag, 'ob', markersize=12)\n",
    "\n",
    "print '\\n%2.2f, %2.2f'%(2.06*1.8,1.82+.59)\n",
    "#view\n",
    "plt.xlim( [-5, 5] )\n",
    "plt.ylim( [-5, 5] )\n",
    "plt.grid('on')\n",
    "plt.show()"
   ]
  },
  {
   "cell_type": "markdown",
   "metadata": {},
   "source": [
    "### Identidad de Euler\n",
    "$e^{\\pi}=-1$"
   ]
  },
  {
   "cell_type": "code",
   "execution_count": 17,
   "metadata": {},
   "outputs": [
    {
     "name": "stdout",
     "output_type": "stream",
     "text": [
      "2.71828182846 2.71828169413\n"
     ]
    }
   ],
   "source": [
    "n       = 10000000.\n",
    "e_aprox = (1+1/n)**n\n",
    "\n",
    "print np.exp(1), e_aprox"
   ]
  },
  {
   "cell_type": "code",
   "execution_count": 18,
   "metadata": {},
   "outputs": [
    {
     "name": "stdout",
     "output_type": "stream",
     "text": [
      "23.1406926328 23.1406811925\n"
     ]
    }
   ],
   "source": [
    "m    = 10000000.\n",
    "e_pi = (1+np.pi/m)**m\n",
    "\n",
    "print np.exp( np.pi ), e_pi"
   ]
  },
  {
   "cell_type": "code",
   "execution_count": 21,
   "metadata": {},
   "outputs": [
    {
     "name": "stdout",
     "output_type": "stream",
     "text": [
      "(-1+1.22464679915e-16j) (-1.00000493473+1.0335461648e-11j)\n"
     ]
    }
   ],
   "source": [
    "m    = 1000000.\n",
    "e_jpi = (1+1j*np.pi/m)**m\n",
    "\n",
    "print np.exp( 1j*np.pi ), e_jpi"
   ]
  },
  {
   "cell_type": "code",
   "execution_count": null,
   "metadata": {},
   "outputs": [],
   "source": [
    "m    = 10.\n",
    "e_jpi = 5*(1+1j*(3*np.pi/2)/m)**m\n",
    "\n",
    "print e_jpi"
   ]
  },
  {
   "cell_type": "code",
   "execution_count": null,
   "metadata": {
    "collapsed": true
   },
   "outputs": [],
   "source": []
  }
 ],
 "metadata": {
  "kernelspec": {
   "display_name": "Python 2",
   "language": "python",
   "name": "python2"
  },
  "language_info": {
   "codemirror_mode": {
    "name": "ipython",
    "version": 2
   },
   "file_extension": ".py",
   "mimetype": "text/x-python",
   "name": "python",
   "nbconvert_exporter": "python",
   "pygments_lexer": "ipython2",
   "version": "2.7.12"
  }
 },
 "nbformat": 4,
 "nbformat_minor": 2
}
