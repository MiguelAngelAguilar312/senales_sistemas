{
 "cells": [
  {
   "cell_type": "markdown",
   "metadata": {},
   "source": [
    "# 1. Números Complejos\n"
   ]
  },
  {
   "cell_type": "code",
   "execution_count": 34,
   "metadata": {
    "collapsed": true
   },
   "outputs": [],
   "source": [
    "def view_equal(a=-1.5,b=1.5):\n",
    "    plt.xlim( [a, b] )\n",
    "    plt.ylim( [a, b] )\n",
    "    plt.grid('on')\n",
    "    plt.axes().set_aspect('equal')\n",
    "    plt.show()"
   ]
  },
  {
   "cell_type": "markdown",
   "metadata": {},
   "source": [
    "## 1.1 Motivación\n",
    "\n",
    "Dada la ecuación $x^3+x=0$, encuentre las soluciones."
   ]
  },
  {
   "cell_type": "markdown",
   "metadata": {},
   "source": [
    "#### Gráficar\n",
    "\n",
    "Primero se importan las bibliotecas de funciones python necesarias para manejar datos tipo matriz y gráficar"
   ]
  },
  {
   "cell_type": "code",
   "execution_count": 1,
   "metadata": {
    "collapsed": true
   },
   "outputs": [],
   "source": [
    "import numpy             as np\n",
    "import matplotlib.pyplot as plt"
   ]
  },
  {
   "cell_type": "markdown",
   "metadata": {},
   "source": [
    "Luego se generan los valores de la variable independiente $x\\in[-5,5]$ con una resolución de $0.001$"
   ]
  },
  {
   "cell_type": "code",
   "execution_count": 2,
   "metadata": {
    "collapsed": true
   },
   "outputs": [],
   "source": [
    "t = np.linspace(-2,2,1000)"
   ]
  },
  {
   "cell_type": "markdown",
   "metadata": {},
   "source": [
    "Gráficar"
   ]
  },
  {
   "cell_type": "code",
   "execution_count": 15,
   "metadata": {
    "scrolled": true
   },
   "outputs": [
    {
     "data": {
      "image/png": "[encoded data removed]",
      "text/plain": [
       "<matplotlib.figure.Figure at 0x7f783a2f85d0>"
      ]
     },
     "metadata": {},
     "output_type": "display_data"
    }
   ],
   "source": [
    "#plt.figure(figsize=(8,8))\n",
    "plt.plot(t,t**3+t,linewidth=3)\n",
    "#plt.plot([0],[0], 'ro',markersize=12)\n",
    "plt.grid('on')\n",
    "plt.show()\n"
   ]
  },
  {
   "cell_type": "markdown",
   "metadata": {},
   "source": [
    "Haciendo $x^3+x=x(x^2+1)=0$ y graficando por separado"
   ]
  },
  {
   "cell_type": "code",
   "execution_count": 25,
   "metadata": {
    "scrolled": true
   },
   "outputs": [
    {
     "data": {
      "image/png": "[encoded data removed]",
      "text/plain": [
       "<matplotlib.figure.Figure at 0x7f7839c4d150>"
      ]
     },
     "metadata": {},
     "output_type": "display_data"
    }
   ],
   "source": [
    "plt.figure(figsize=(5,7))\n",
    "plt.plot(t,t**3+t,'b',linewidth=3)\n",
    "plt.plot(t,t     ,'g',linewidth=3)\n",
    "plt.plot(t,t**2+1,'r',linewidth=3)\n",
    "#plt.plot([0],[0], 'ro',markersize=12)\n",
    "plt.grid('on')\n",
    "plt.show()\n"
   ]
  },
  {
   "cell_type": "markdown",
   "metadata": {},
   "source": [
    "**Buscando la solución analítica** \n",
    "\n",
    "Se define del polinomio utilizando la biblioteca Numpy"
   ]
  },
  {
   "cell_type": "code",
   "execution_count": 17,
   "metadata": {},
   "outputs": [
    {
     "name": "stdout",
     "output_type": "stream",
     "text": [
      "   3\n",
      "1 x + 1 x\n"
     ]
    }
   ],
   "source": [
    "p = np.poly1d([1, 0, 1, 0])\n",
    "\n",
    "print( np.poly1d(p) )"
   ]
  },
  {
   "cell_type": "markdown",
   "metadata": {},
   "source": [
    "Y se encuentran las raíces"
   ]
  },
  {
   "cell_type": "code",
   "execution_count": 26,
   "metadata": {},
   "outputs": [
    {
     "name": "stdout",
     "output_type": "stream",
     "text": [
      "[-0.+1.j  0.-1.j  0.+0.j]\n"
     ]
    }
   ],
   "source": [
    "print p.r"
   ]
  },
  {
   "cell_type": "markdown",
   "metadata": {},
   "source": [
    "**Conclusión:** A pesar de su nombre los números imaginarios, y por lo tanto, los números **complejos sí existen**; son una extensión de necesaria de los números reales para explicar ecuaciones como la presentada en este ejemplo. Para más información sobre los números complejos se recomienda la serie [Imaginary Numbers Are Real](https://www.youtube.com/watch?v=T647CGsuOVU)"
   ]
  },
  {
   "cell_type": "markdown",
   "metadata": {},
   "source": [
    "## 1.2. Propiedades de los números complejos"
   ]
  },
  {
   "cell_type": "markdown",
   "metadata": {},
   "source": [
    "### Periodicidad"
   ]
  },
  {
   "cell_type": "code",
   "execution_count": 27,
   "metadata": {
    "scrolled": true
   },
   "outputs": [
    {
     "name": "stdout",
     "output_type": "stream",
     "text": [
      "[ 0.+1.j]\n"
     ]
    }
   ],
   "source": [
    "c = np.array( [1j] )\n",
    "print c\n"
   ]
  },
  {
   "cell_type": "code",
   "execution_count": 36,
   "metadata": {
    "scrolled": true
   },
   "outputs": [
    {
     "name": "stdout",
     "output_type": "stream",
     "text": [
      "[ 0.+1.j]\n"
     ]
    },
    {
     "data": {
      "image/png": "[encoded data removed]",
      "text/plain": [
       "<matplotlib.figure.Figure at 0x7f7839bc3310>"
      ]
     },
     "metadata": {},
     "output_type": "display_data"
    }
   ],
   "source": [
    "c = np.array( [1j] )\n",
    "print c\n",
    "\n",
    "plt.plot(      c.real,      c.imag, 'or', markersize=20)\n",
    "\n",
    "#view\n",
    "view_equal()\n",
    "\n"
   ]
  },
  {
   "cell_type": "code",
   "execution_count": 37,
   "metadata": {
    "scrolled": true
   },
   "outputs": [
    {
     "name": "stdout",
     "output_type": "stream",
     "text": [
      "[ 0.+1.j] [-1.+0.j]\n"
     ]
    },
    {
     "data": {
      "image/png": "[encoded data removed]",
      "text/plain": [
       "<matplotlib.figure.Figure at 0x7f783a16a850>"
      ]
     },
     "metadata": {},
     "output_type": "display_data"
    }
   ],
   "source": [
    "c = np.array( [1j] )\n",
    "print c, c**2\n",
    "\n",
    "plt.plot(      c.real,      c.imag, 'or', markersize=20)\n",
    "plt.plot( (c**2).real, (c**2).imag, 'og', markersize=20)\n",
    "\n",
    "#view\n",
    "view_equal()"
   ]
  },
  {
   "cell_type": "code",
   "execution_count": 42,
   "metadata": {
    "scrolled": true
   },
   "outputs": [
    {
     "name": "stdout",
     "output_type": "stream",
     "text": [
      " [ 0.+1.j]\n",
      " [-1.+0.j]\n",
      " [-0.-1.j]\n"
     ]
    },
    {
     "data": {
      "image/png": "[encoded data removed]",
      "text/plain": [
       "<matplotlib.figure.Figure at 0x7f7839f4af90>"
      ]
     },
     "metadata": {},
     "output_type": "display_data"
    }
   ],
   "source": [
    "c = np.array( [1j] )\n",
    "print ' %s\\n %s\\n %s'%( c,c**2,c**3 )\n",
    "plt.plot(      c.real,      c.imag, 'or', markersize=20)\n",
    "plt.plot( (c**2).real, (c**2).imag, 'og', markersize=20)\n",
    "plt.plot( (c**3).real, (c**3).imag, 'oy', markersize=20)\n",
    "\n",
    "#view\n",
    "view_equal()"
   ]
  },
  {
   "cell_type": "code",
   "execution_count": 44,
   "metadata": {
    "scrolled": true
   },
   "outputs": [
    {
     "name": "stdout",
     "output_type": "stream",
     "text": [
      " [ 0.+1.j]\n",
      " [-1.+0.j]\n",
      " [-0.-1.j]\n",
      " [ 1.+0.j]\n"
     ]
    },
    {
     "data": {
      "image/png": "[encoded data removed]",
      "text/plain": [
       "<matplotlib.figure.Figure at 0x7f783a13e9d0>"
      ]
     },
     "metadata": {},
     "output_type": "display_data"
    }
   ],
   "source": [
    "c = np.array( [1j] )\n",
    "print ' %s\\n %s\\n %s\\n %s'%( c,c**2,c**3,c**4 )\n",
    "plt.plot(      c.real,      c.imag, 'or', markersize=20)\n",
    "plt.plot( (c**2).real, (c**2).imag, 'og', markersize=20)\n",
    "plt.plot( (c**3).real, (c**3).imag, 'oy', markersize=20)\n",
    "plt.plot( (c**4).real, (c**4).imag, 'ok', markersize=20)\n",
    "\n",
    "#view\n",
    "view_equal()"
   ]
  },
  {
   "cell_type": "code",
   "execution_count": 46,
   "metadata": {},
   "outputs": [
    {
     "name": "stdout",
     "output_type": "stream",
     "text": [
      " [ 0.+1.j], [-1.+0.j], [-0.-1.j], [ 1.+0.j]\n",
      " [ 0.+1.j], [-1.+0.j], [-0.-1.j], [ 1.+0.j]\n"
     ]
    },
    {
     "data": {
      "image/png": "[encoded data removed]",
      "text/plain": [
       "<matplotlib.figure.Figure at 0x7f783a2cbc90>"
      ]
     },
     "metadata": {},
     "output_type": "display_data"
    }
   ],
   "source": [
    "c = np.array( [1j] )\n",
    "print ' %s, %s, %s, %s'%( c   ,c**2,c**3,c**4 )\n",
    "print ' %s, %s, %s, %s'%( c**5,c**6,c**7,c**8 )\n",
    "plt.plot(      c.real,      c.imag, 'or', markersize=20)\n",
    "plt.plot( (c**2).real, (c**2).imag, 'og', markersize=20)\n",
    "plt.plot( (c**3).real, (c**3).imag, 'oy', markersize=20)\n",
    "plt.plot( (c**4).real, (c**4).imag, 'ok', markersize=20)\n",
    "\n",
    "plt.plot( (c**5).real, (c**5).imag, 'ob', markersize=10)\n",
    "plt.plot( (c**6).real, (c**6).imag, 'ok', markersize=10)\n",
    "plt.plot( (c**7).real, (c**7).imag, 'og', markersize=10)\n",
    "plt.plot( (c**8).real, (c**8).imag, 'or', markersize=10)\n",
    "\n",
    "#view\n",
    "view_equal()"
   ]
  },
  {
   "cell_type": "markdown",
   "metadata": {},
   "source": [
    "**Conclusión:** Los números complejos presentan periodicidad; dado un periódo pueden utilizarse para genera ciclos. Un ejemplo de esto se presenta en el vídeo [Fourier Transform, Fourier Series, and frequency spectrum](https://www.youtube.com/watch?v=r18Gi8lSkfM)"
   ]
  },
  {
   "cell_type": "markdown",
   "metadata": {},
   "source": [
    "## 1.3. Representación polar de los números complejos"
   ]
  },
  {
   "cell_type": "markdown",
   "metadata": {},
   "source": [
    "Sea $c=1+j$, un número complejo dado en coordenadas cartesianas $(x,y)\\in\\mathbb{R}\\times\\mathbb{R}$. Este número puede representarse en **coordenadas polares** $(r,\\theta)$, donde $r$ es la distancia de entre el punto $c$ y el origen del sistema coordenado y $\\theta$ el ángulo en radianes entre $c$ y la horizontal.\n",
    "\n",
    "La transformación coordenadas cartesianas a polares obedece entonces el teorema de Pitágoras."
   ]
  },
  {
   "cell_type": "code",
   "execution_count": 59,
   "metadata": {},
   "outputs": [
    {
     "name": "stdout",
     "output_type": "stream",
     "text": [
      "[ 1.+1.j]\n"
     ]
    },
    {
     "data": {
      "image/png": "[encoded data removed]",
      "text/plain": [
       "<matplotlib.figure.Figure at 0x7f783a112b50>"
      ]
     },
     "metadata": {},
     "output_type": "display_data"
    }
   ],
   "source": [
    "c = np.array( [1+1j] )\n",
    "plt.plot( c.real, c.imag, 'or', markersize=12)\n",
    "print c\n",
    "#print np.absolute(c), np.angle(c)\n",
    "#print np.sqrt( c.real**2+c.imag**2 ), np.arctan( c.imag/c.real )\n",
    "\n",
    "#view\n",
    "view_equal()"
   ]
  },
  {
   "cell_type": "markdown",
   "metadata": {},
   "source": [
    "Ejemplo $c=1-j$"
   ]
  },
  {
   "cell_type": "code",
   "execution_count": 66,
   "metadata": {},
   "outputs": [
    {
     "name": "stdout",
     "output_type": "stream",
     "text": [
      "[-1.-1.j]\n"
     ]
    },
    {
     "data": {
      "image/png": "[encoded data removed]",
      "text/plain": [
       "<matplotlib.figure.Figure at 0x7f783a0d8590>"
      ]
     },
     "metadata": {},
     "output_type": "display_data"
    }
   ],
   "source": [
    "c = np.array( [-1-1j] )\n",
    "plt.plot( c.real, c.imag, 'or', markersize=12)\n",
    "print c\n",
    "#print np.absolute(c), np.angle(c)\n",
    "#print np.sqrt( c.real**2+c.imag**2 ), np.arctan( c.imag/c.real )\n",
    "\n",
    "#view\n",
    "view_equal()"
   ]
  },
  {
   "cell_type": "markdown",
   "metadata": {},
   "source": [
    "## 1.4. Producto de los números complejos"
   ]
  },
  {
   "cell_type": "markdown",
   "metadata": {},
   "source": [
    "Sean $c_0=-0.2+j$ y $c_1=1-0.5j$. ¿Cuál es el valor de $c_0(c_1)$?"
   ]
  },
  {
   "cell_type": "code",
   "execution_count": 92,
   "metadata": {
    "scrolled": false
   },
   "outputs": [
    {
     "name": "stdout",
     "output_type": "stream",
     "text": [
      "[-0.2+1.j], [ 1.-0.5j]\n"
     ]
    },
    {
     "data": {
      "image/png": "[encoded data removed]",
      "text/plain": [
       "<matplotlib.figure.Figure at 0x7f7839952fd0>"
      ]
     },
     "metadata": {},
     "output_type": "display_data"
    }
   ],
   "source": [
    "c0 = np.array( [-0.2 + 1.0j] )\n",
    "c1 = np.array( [ 1.0 - 0.5j] )\n",
    "\n",
    "print '%s, %s'%(c0, c1)\n",
    "plt.plot( c0.real, c0.imag, 'or', markersize=12)\n",
    "plt.plot( c1.real, c1.imag, 'og', markersize=12)\n",
    "\n",
    "#view\n",
    "plt.plot( 0,0, 'ok', markersize=6)\n",
    "view_equal()"
   ]
  },
  {
   "cell_type": "code",
   "execution_count": 80,
   "metadata": {
    "scrolled": false
   },
   "outputs": [
    {
     "name": "stdout",
     "output_type": "stream",
     "text": [
      "[-0.2+1.j], [ 1.-0.5j]\n"
     ]
    },
    {
     "data": {
      "image/png": "[encoded data removed]",
      "text/plain": [
       "<matplotlib.figure.Figure at 0x7f783a26e850>"
      ]
     },
     "metadata": {},
     "output_type": "display_data"
    }
   ],
   "source": [
    "print '%s, %s'%(c0, c1)\n",
    "plt.plot( c0.real, c0.imag, 'or', markersize=12)\n",
    "plt.plot( c1.real, c1.imag, 'og', markersize=12)\n",
    "\n",
    "#view\n",
    "plt.plot( 0,0, 'ok', markersize=6)\n",
    "view_equal()"
   ]
  },
  {
   "cell_type": "markdown",
   "metadata": {},
   "source": [
    "Solución algebraica:\n",
    "\n",
    "\\begin{aligned}\n",
    "  \\left( -0.2+j \\right)(1-0.5j) &= -0.2(1-0.5j)+j(1-0.5j)\\\\\n",
    "   &= -0.2 + 0.1j + j + 0.5\\\\\n",
    "   &= \\color{blue}{ -0.2 + 0.5 } + \\color{green}{j+0.1j}\\\\\n",
    "   &= \\color{blue}{0.3 } + \\color{green}{1.1j}\n",
    "\\end{aligned}\n",
    "\n"
   ]
  },
  {
   "cell_type": "code",
   "execution_count": 93,
   "metadata": {
    "scrolled": true
   },
   "outputs": [
    {
     "name": "stdout",
     "output_type": "stream",
     "text": [
      "[-0.2+1.j]\n",
      "[ 1.-0.5j]\n",
      "[ 0.3+1.1j]\n"
     ]
    },
    {
     "data": {
      "image/png": "[encoded data removed]",
      "text/plain": [
       "<matplotlib.figure.Figure at 0x7f783a4131d0>"
      ]
     },
     "metadata": {},
     "output_type": "display_data"
    }
   ],
   "source": [
    "c = c0*c1\n",
    "\n",
    "print '%s\\n%s\\n%s'%(c0, c1, c)\n",
    "plt.plot(  c.real, c.imag, 'om', markersize=12)\n",
    "plt.plot( c0.real, c0.imag, 'or', markersize=12)\n",
    "plt.plot( c1.real, c1.imag, 'og', markersize=12)\n",
    "\n",
    "#view\n",
    "plt.plot( 0,0, 'ok', markersize=6)\n",
    "view_equal()"
   ]
  },
  {
   "cell_type": "code",
   "execution_count": 94,
   "metadata": {
    "scrolled": true
   },
   "outputs": [
    {
     "name": "stdout",
     "output_type": "stream",
     "text": [
      "c0: 1.0198/_1.7682\n",
      "c1: 1.1180/_-0.4636\n",
      "c : 1.1402/_1.3045\n"
     ]
    },
    {
     "data": {
      "image/png": "[encoded data removed]",
      "text/plain": [
       "<matplotlib.figure.Figure at 0x7f7839d29ed0>"
      ]
     },
     "metadata": {},
     "output_type": "display_data"
    }
   ],
   "source": [
    "c = c0*c1\n",
    "\n",
    "print 'c0: %2.4f/_%2.4f'%( np.absolute(c0), np.angle(c0) )\n",
    "print 'c1: %2.4f/_%2.4f'%( np.absolute(c1), np.angle(c1) )\n",
    "print 'c : %2.4f/_%2.4f'%( np.absolute(c ), np.angle(c ) )\n",
    "\n",
    "plt.plot(  c.real, c.imag, 'om', markersize=12)\n",
    "plt.plot( c0.real, c0.imag, 'or', markersize=12)\n",
    "plt.plot( c1.real, c1.imag, 'og', markersize=12)\n",
    "\n",
    "#view\n",
    "plt.plot( 0,0, 'ok', markersize=6)\n",
    "view_equal()"
   ]
  },
  {
   "cell_type": "markdown",
   "metadata": {},
   "source": [
    "**Problema.** Sean $c_0=-1+2.1j$ y $c_1=1.7+1.3j$. ¿Cuál es el valor de $c_0(c_1)$?"
   ]
  },
  {
   "cell_type": "code",
   "execution_count": 106,
   "metadata": {
    "scrolled": true
   },
   "outputs": [
    {
     "name": "stdout",
     "output_type": "stream",
     "text": [
      "[-1.+2.1j], [ 1.7+1.3j]\n",
      "c0: 2.3259/_2.0152\n",
      "c1: 2.1401/_0.6528\n",
      "c : 4.9777/_2.6681\n"
     ]
    },
    {
     "data": {
      "image/png": "[encoded data removed]",
      "text/plain": [
       "<matplotlib.figure.Figure at 0x7f783a0c06d0>"
      ]
     },
     "metadata": {},
     "output_type": "display_data"
    }
   ],
   "source": [
    "c0 = np.array( [-1.  + 2.1j] )\n",
    "c1 = np.array( [ 1.7 + 1.3j] )\n",
    "\n",
    "print '%s, %s'%(c0, c1)\n",
    "\n",
    "c = c0*c1\n",
    "\n",
    "print 'c0: %2.4f/_%2.4f'%( np.absolute(c0), np.angle(c0) )\n",
    "print 'c1: %2.4f/_%2.4f'%( np.absolute(c1), np.angle(c1) )\n",
    "print 'c : %2.4f/_%2.4f'%( np.absolute(c ), np.angle(c ) )\n",
    "\n",
    "plt.plot(  c.real, c.imag, 'om', markersize=12)\n",
    "plt.plot( c0.real, c0.imag, 'or', markersize=12)\n",
    "plt.plot( c1.real, c1.imag, 'og', markersize=12)\n",
    "\n",
    "#view\n",
    "plt.plot( 0,0, 'ok', markersize=6)\n",
    "view_equal(-5,5)"
   ]
  },
  {
   "cell_type": "markdown",
   "metadata": {},
   "source": [
    "**Conclusión.** Sean $A\\angle\\alpha$ y $B\\angle\\beta$ las representaciones en coordenadas polares de la números $a,b\\in\\mathbb{C}$ el producto $e=ab$ está dado por\n",
    "\n",
    "$$E\\angle\\eta: E=A+B,\\, \\eta=\\alpha+\\beta$$\n",
    "\n",
    "En otras palabras, el producto entre números complejos afecta la magnitud y la fase. **Este resultado es de vital importancia en el diseño de filtros.**"
   ]
  },
  {
   "cell_type": "markdown",
   "metadata": {},
   "source": [
    "## 1.5. Identidad de Euler números complejos"
   ]
  },
  {
   "cell_type": "markdown",
   "metadata": {
    "collapsed": true
   },
   "source": [
    "El número $e$ es una constante irracional que se obtiene cuando $n$ de interés compuesto tiende a infinito\n",
    "$$e=\\lim_{n\\rightarrow \\infty} \\left(1+\\dfrac{1}{n}\\right)^n$$"
   ]
  },
  {
   "cell_type": "code",
   "execution_count": 109,
   "metadata": {},
   "outputs": [
    {
     "name": "stdout",
     "output_type": "stream",
     "text": [
      "2.71828182846 2.25\n"
     ]
    }
   ],
   "source": [
    "n       = 2.\n",
    "e_aprox = (1+1/n)**n\n",
    "\n",
    "print np.exp(1), e_aprox"
   ]
  },
  {
   "cell_type": "markdown",
   "metadata": {},
   "source": [
    "De la definición del número $e$ se obtiene que la función $f(x) = e^x$ se define como\n",
    "$$e^x=\\lim_{m\\rightarrow \\infty} \\left(1+\\dfrac{x}{m}\\right)^m$$"
   ]
  },
  {
   "cell_type": "code",
   "execution_count": 113,
   "metadata": {},
   "outputs": [
    {
     "name": "stdout",
     "output_type": "stream",
     "text": [
      "23.1406926328 15.3631408972\n"
     ]
    }
   ],
   "source": [
    "m    = 10.\n",
    "x    = np.pi\n",
    "e_pi = ( 1 + x/m)**m\n",
    "\n",
    "print np.exp( x ), e_pi"
   ]
  },
  {
   "cell_type": "markdown",
   "metadata": {},
   "source": [
    "en general se puede definir la función $f(x) = e^x$  para $x\\in\\mathbb{C}$.\n",
    "\n",
    "Por ejemplo $e^{j\\pi}$:\n",
    "$$e^{j\\pi} = \\lim_{m\\rightarrow \\infty} \\left(1+\\dfrac{j\\pi}{m}\\right) $$"
   ]
  },
  {
   "cell_type": "code",
   "execution_count": 118,
   "metadata": {},
   "outputs": [
    {
     "name": "stdout",
     "output_type": "stream",
     "text": [
      "(-1+1.22464679915e-16j) (-1.05055978667+0.00108515610208j)\n"
     ]
    }
   ],
   "source": [
    "m     = 100.\n",
    "x     = 1j*np.pi\n",
    "e_jpi = (1+x/m)**m\n",
    "\n",
    "print np.exp( x ), e_jpi"
   ]
  },
  {
   "cell_type": "markdown",
   "metadata": {},
   "source": [
    "$e^{j\\pi}=-1$, a esto se le conoce como la identidad de Euler"
   ]
  },
  {
   "cell_type": "markdown",
   "metadata": {},
   "source": [
    "En general se puede escribir $e^{j\\pi\\omega}=-1$, a esto se le conoce como la identidad de Euler"
   ]
  },
  {
   "cell_type": "code",
   "execution_count": 186,
   "metadata": {},
   "outputs": [
    {
     "data": {
      "image/png": "[encoded data removed]",
      "text/plain": [
       "<matplotlib.figure.Figure at 0x7f783a420150>"
      ]
     },
     "metadata": {},
     "output_type": "display_data"
    }
   ],
   "source": [
    "w = 0.25\n",
    "c = np.exp( w*x )\n",
    "\n",
    "plt.plot(  c.real, c.imag, 'ob', markersize=12)\n",
    "\n",
    "#view\n",
    "plt.plot( 0,0, 'ok', markersize=6)\n",
    "view_equal(-1.2,1.2)\n"
   ]
  },
  {
   "cell_type": "code",
   "execution_count": 217,
   "metadata": {},
   "outputs": [
    {
     "name": "stdout",
     "output_type": "stream",
     "text": [
      "[ 0.          0.12822827  0.25645654  0.38468481  0.51291309  0.64114136\n",
      "  0.76936963  0.8975979   1.02582617  1.15405444  1.28228272  1.41051099\n",
      "  1.53873926  1.66696753  1.7951958   1.92342407  2.05165235  2.17988062\n",
      "  2.30810889  2.43633716  2.56456543  2.6927937   2.82102197  2.94925025\n",
      "  3.07747852  3.20570679  3.33393506  3.46216333  3.5903916   3.71861988\n",
      "  3.84684815  3.97507642  4.10330469  4.23153296  4.35976123  4.48798951\n",
      "  4.61621778  4.74444605  4.87267432  5.00090259  5.12913086  5.25735913\n",
      "  5.38558741  5.51381568  5.64204395  5.77027222  5.89850049  6.02672876\n",
      "  6.15495704  6.28318531]\n"
     ]
    }
   ],
   "source": [
    "w = np.linspace(0, 2*np.pi, 50)\n",
    "#w = np.linspace(0, 20, 21)\n",
    "print w"
   ]
  },
  {
   "cell_type": "code",
   "execution_count": 218,
   "metadata": {},
   "outputs": [
    {
     "data": {
      "image/png": "[encoded data removed]",
      "text/plain": [
       "<matplotlib.figure.Figure at 0x7f783a32d710>"
      ]
     },
     "metadata": {},
     "output_type": "display_data"
    }
   ],
   "source": [
    "c = np.exp( w*x )\n",
    "\n",
    "plt.plot(  c.real, c.imag, 'ob', markersize=12)\n",
    "\n",
    "#view\n",
    "plt.plot( 0,0, 'ok', markersize=6)\n",
    "view_equal(-1.2,1.2)\n"
   ]
  },
  {
   "cell_type": "code",
   "execution_count": 229,
   "metadata": {},
   "outputs": [
    {
     "data": {
      "image/png": "[encoded data removed]",
      "text/plain": [
       "<matplotlib.figure.Figure at 0x7f7839b5fc50>"
      ]
     },
     "metadata": {},
     "output_type": "display_data"
    }
   ],
   "source": [
    "a = .2\n",
    "\n",
    "c  =   np.exp( w*x )\n",
    "ca = a*np.exp( w*x )\n",
    "\n",
    "plt.plot(  c .real, c .imag, 'ob', markersize=12)\n",
    "plt.plot(  ca.real, ca.imag, 'or', markersize=12)\n",
    "\n",
    "#view\n",
    "plt.plot( 0,0, 'ok', markersize=6)\n",
    "#view_equal(-a-0.2,a+0.2)\n",
    "view_equal()\n"
   ]
  },
  {
   "cell_type": "markdown",
   "metadata": {},
   "source": [
    "**Conclusión** Una forma alternativa de representar número complejo $c=r\\angle\\theta$ es\n",
    "\n",
    "$$c=re^{j\\theta}$$"
   ]
  },
  {
   "cell_type": "markdown",
   "metadata": {},
   "source": [
    "**Ejemplo:** Retomando $c0=-0.2+j$, al hacer la transformación a coordenadas polares:\n",
    "\n",
    "$c_0 = 1.0198\\angle 1.7682 \\implies c_0=1.0198e^{j1.7682}$"
   ]
  },
  {
   "cell_type": "code",
   "execution_count": 230,
   "metadata": {},
   "outputs": [
    {
     "name": "stdout",
     "output_type": "stream",
     "text": [
      "[-0.2+1.j]\n",
      "1.0198/_1.7682\n"
     ]
    }
   ],
   "source": [
    "c0         = np.array( [-0.2 + 1.0j] )\n",
    "c0_r, c0_a = np.absolute(c0),np.angle(c0)\n",
    "\n",
    "print '%s'%(c0)\n",
    "print '%2.4f/_%2.4f'%( c0_r, c0_a )\n"
   ]
  },
  {
   "cell_type": "code",
   "execution_count": 234,
   "metadata": {},
   "outputs": [
    {
     "name": "stdout",
     "output_type": "stream",
     "text": [
      "[-0.2+1.j]\n",
      "1.0198/_1.7682\n"
     ]
    },
    {
     "data": {
      "image/png": "[encoded data removed]",
      "text/plain": [
       "<matplotlib.figure.Figure at 0x7f783a2a8d50>"
      ]
     },
     "metadata": {},
     "output_type": "display_data"
    },
    {
     "data": {
      "image/png": "[encoded data removed]",
      "text/plain": [
       "<matplotlib.figure.Figure at 0x7f7839d41650>"
      ]
     },
     "metadata": {},
     "output_type": "display_data"
    }
   ],
   "source": [
    "c0         = np.array( [-0.2 + 1.0j] )\n",
    "c0_r, c0_a = np.absolute(c0),np.angle(c0)\n",
    "\n",
    "print '%s'%(c0)\n",
    "print '%2.4f/_%2.4f'%( c0_r, c0_a )\n",
    "\n",
    "plt.polar( c0_a,c0_r,'o', markersize=14)\n",
    "plt.polar( 0,0, 'ok', markersize=6)\n",
    "\n",
    "plt.figure()\n",
    "plt.plot(  c0.real, c0.imag,'o',markersize=14)\n",
    "\n",
    "#view\n",
    "plt.plot( 0,0, 'ok', markersize=6)\n",
    "view_equal( -1.1,1.1 )"
   ]
  },
  {
   "cell_type": "code",
   "execution_count": 238,
   "metadata": {},
   "outputs": [
    {
     "name": "stdout",
     "output_type": "stream",
     "text": [
      "[-0.2+1.j]\n",
      "[-0.2+1.j]\n",
      "1.0198/_1.7682\n"
     ]
    }
   ],
   "source": [
    "c0_exp = c0_r*np.exp( 1j*c0_a )\n",
    "\n",
    "print '%s'%(c0)\n",
    "print '%s'%(c0_exp)\n",
    "print '%2.4f/_%2.4f'%( c0_r, c0_a )"
   ]
  }
 ],
 "metadata": {
  "kernelspec": {
   "display_name": "Python 2",
   "language": "python",
   "name": "python2"
  },
  "language_info": {
   "codemirror_mode": {
    "name": "ipython",
    "version": 2
   },
   "file_extension": ".py",
   "mimetype": "text/x-python",
   "name": "python",
   "nbconvert_exporter": "python",
   "pygments_lexer": "ipython2",
   "version": "2.7.12"
  }
 },
 "nbformat": 4,
 "nbformat_minor": 2
}
