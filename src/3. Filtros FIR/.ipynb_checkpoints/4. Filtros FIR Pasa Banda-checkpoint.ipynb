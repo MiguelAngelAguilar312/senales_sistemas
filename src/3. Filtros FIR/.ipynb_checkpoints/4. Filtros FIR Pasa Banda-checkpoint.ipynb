{
 "cells": [
  {
   "cell_type": "markdown",
   "metadata": {},
   "source": [
    "# Filtros FIR Pasa Banda"
   ]
  },
  {
   "cell_type": "code",
   "execution_count": null,
   "metadata": {
    "collapsed": true
   },
   "outputs": [],
   "source": [
    "#NOTE importar bibliotecas\n",
    "import numpy             as np\n",
    "import matplotlib.pyplot as plt\n",
    "\n",
    "from scipy import signal"
   ]
  },
  {
   "cell_type": "code",
   "execution_count": null,
   "metadata": {
    "collapsed": true
   },
   "outputs": [],
   "source": [
    "def firdesign(N, fc, sr, ftype='low',info=False):\n",
    "    ft = fc/float(sr)\n",
    "    M  = int( N+1 )\n",
    "    tk = np.arange(M) - M/2\n",
    "    \n",
    "    tk[M/2] = -1\n",
    "    \n",
    "    if 'low' in ftype:\n",
    "        sinc      = np.sin(2*np.pi*ft*tk)/(np.pi*tk)\n",
    "        sinc[M/2] = 2*ft\n",
    "        tk[M/2]   = 0\n",
    "    \n",
    "    elif 'high' in ftype:\n",
    "        sinc      = -np.sin(2*np.pi*ft*tk)/(np.pi*tk)\n",
    "        sinc[M/2] = 1-2*ft\n",
    "        tk[M/2]   = 0\n",
    "    \n",
    "    else:\n",
    "        print 'No se especifico tipo de filtro'\n",
    "        sinc = np.zeros(tk.shape[0])\n",
    "        \n",
    "    if info:\n",
    "        print tk,M\n",
    "        plt.plot(ft*tk,sinc,'-o',markersize=9,linewidth=3)\n",
    "        plt.grid(True)\n",
    "        \n",
    "        plt.show()\n",
    "    return sinc"
   ]
  },
  {
   "cell_type": "code",
   "execution_count": null,
   "metadata": {
    "collapsed": true
   },
   "outputs": [],
   "source": [
    "def freq_hz(S,sr):\n",
    "    w, h = signal.freqz(S)\n",
    "    H    = 20*np.log10( np.abs(h) )\n",
    "    W    = np.angle  (h)\n",
    "    W    = np.unwrap (W)\n",
    "    W    = np.degrees(W)\n",
    "    w    = np.linspace(0,sr/2,H.shape[0] )\n",
    "    \n",
    "    return w, W, H"
   ]
  },
  {
   "cell_type": "code",
   "execution_count": null,
   "metadata": {
    "collapsed": true
   },
   "outputs": [],
   "source": [
    "N   = 41\n",
    "M   = N+1\n",
    "fcl = 45\n",
    "fch = 80\n",
    "sr  = 300\n",
    "\n",
    "cl_fir = firdesign(N,fcl,sr)\n",
    "ch_fir = firdesign(N,fch,sr, ftype='high')\n",
    "cb_fir = cl_fir + ch_fir"
   ]
  },
  {
   "cell_type": "code",
   "execution_count": null,
   "metadata": {},
   "outputs": [],
   "source": [
    "plt.figure(figsize=(8,8))\n",
    "plt.plot(cl_fir,'-bo',markersize=8,linewidth=3)\n",
    "plt.plot(ch_fir,'-ro',markersize=8,linewidth=3)\n",
    "plt.plot(cb_fir,'-go',markersize=8,linewidth=3)\n",
    "plt.grid(True)\n",
    "plt.show()"
   ]
  },
  {
   "cell_type": "code",
   "execution_count": null,
   "metadata": {},
   "outputs": [],
   "source": [
    "w,W,H = freq_hz(cb_fir,sr)\n",
    "\n",
    "\n",
    "plt.figure( figsize=(8,6) )\n",
    "plt.title('Magnitud [dB]')\n",
    "plt.grid(True)\n",
    "plt.plot( w,H,'b',linewidth=3 )\n",
    "\n",
    "plt.figure( figsize=(8,6) )\n",
    "plt.title('Fase [grados]')\n",
    "plt.plot( w,W,'g',linewidth=3 )\n",
    "plt.grid(True)\n",
    "plt.show()\n",
    "\n"
   ]
  },
  {
   "cell_type": "markdown",
   "metadata": {},
   "source": [
    "Ventanas"
   ]
  },
  {
   "cell_type": "code",
   "execution_count": null,
   "metadata": {},
   "outputs": [],
   "source": [
    "tk   = np.arange(N+1)\n",
    "hamm = .56 - .46*np.cos( 2*np.pi*tk/float(M) )\n",
    "\n",
    "plt.figure(figsize=(8,6))\n",
    "plt.plot(ch_fir,'-bo',linewidth=3,markersize=8)\n",
    "plt.plot(hamm  ,'-ro',linewidth=3,markersize=8)\n",
    "plt.grid(True)\n",
    "plt.show()\n"
   ]
  },
  {
   "cell_type": "code",
   "execution_count": null,
   "metadata": {},
   "outputs": [],
   "source": [
    "W_fir = cb_fir*hamm\n",
    "\n",
    "plt.figure(figsize=(8,8))\n",
    "plt.plot(ch_fir,'-bo',linewidth=3,markersize=8)\n",
    "plt.plot(W_fir ,'-go',linewidth=3,markersize=8)\n",
    "plt.grid(True)\n",
    "plt.show()\n"
   ]
  },
  {
   "cell_type": "code",
   "execution_count": null,
   "metadata": {},
   "outputs": [],
   "source": [
    "w ,w_hz ,h_hz  = freq_hz(cb_fir,sr)\n",
    "wW,w_hzW,h_hzW = freq_hz( W_fir,sr)\n",
    "\n",
    "\n",
    "plt.figure( figsize=(8,12) )\n",
    "plt.title('Magnitud [dB]')\n",
    "plt.grid(True)\n",
    "plt.plot( w ,h_hz ,'b',linewidth=3 )\n",
    "plt.plot( wW,h_hzW,'r',linewidth=3 )\n",
    "\n",
    "plt.figure( figsize=(8,6) )\n",
    "plt.title('Fase [grados]')\n",
    "plt.plot( w ,w_hz ,'g',linewidth=3 )\n",
    "plt.plot( wW,w_hzW,'r',linewidth=3 )\n",
    "plt.grid(True)\n",
    "plt.show()\n",
    "\n"
   ]
  }
 ],
 "metadata": {
  "kernelspec": {
   "display_name": "Python 2",
   "language": "python",
   "name": "python2"
  },
  "language_info": {
   "codemirror_mode": {
    "name": "ipython",
    "version": 2
   },
   "file_extension": ".py",
   "mimetype": "text/x-python",
   "name": "python",
   "nbconvert_exporter": "python",
   "pygments_lexer": "ipython2",
   "version": "2.7.12"
  }
 },
 "nbformat": 4,
 "nbformat_minor": 2
}
